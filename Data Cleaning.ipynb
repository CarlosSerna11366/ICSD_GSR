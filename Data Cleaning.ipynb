{
 "cells": [
  {
   "cell_type": "code",
   "execution_count": 5,
   "metadata": {},
   "outputs": [],
   "source": [
    "import pandas as pd"
   ]
  },
  {
   "cell_type": "code",
   "execution_count": 6,
   "metadata": {},
   "outputs": [],
   "source": [
    "import numpy as np"
   ]
  },
  {
   "cell_type": "code",
   "execution_count": 7,
   "metadata": {},
   "outputs": [],
   "source": [
    "import matplotlib.pyplot as plt"
   ]
  },
  {
   "cell_type": "code",
   "execution_count": 8,
   "metadata": {},
   "outputs": [
    {
     "name": "stderr",
     "output_type": "stream",
     "text": [
      "C:\\Users\\csern\\Miniconda3\\envs\\Serna\\lib\\site-packages\\pysal\\model\\spvcm\\abstracts.py:10: UserWarning: The `dill` module is required to use the sqlite backend fully.\n",
      "  from .sqlite import head_to_sql, start_sql\n"
     ]
    }
   ],
   "source": [
    "import pysal"
   ]
  },
  {
   "cell_type": "code",
   "execution_count": 9,
   "metadata": {},
   "outputs": [],
   "source": [
    "data = pd.read_csv(\"Ipums-working.csv\")"
   ]
  },
  {
   "cell_type": "code",
   "execution_count": 10,
   "metadata": {},
   "outputs": [
    {
     "data": {
      "text/plain": [
       "<bound method NDFrame.head of          YEAR  MULTYEAR  SAMPLE   SERIAL       CBSERIAL  NUMPREC  SUBSAMP  \\\n",
       "0        2018      2014  201803   338238  2014000000018        2       33   \n",
       "1        2018      2014  201803   338238  2014000000018        2       33   \n",
       "2        2018      2014  201803   338239  2014000000052        4       38   \n",
       "3        2018      2014  201803   338239  2014000000052        4       38   \n",
       "4        2018      2014  201803   338239  2014000000052        4       38   \n",
       "...       ...       ...     ...      ...            ...      ...      ...   \n",
       "1879918  2018      2018  201803  1081102  2018001400891        2       76   \n",
       "1879919  2018      2018  201803  1081103  2018001400893        4        2   \n",
       "1879920  2018      2018  201803  1081103  2018001400893        4        2   \n",
       "1879921  2018      2018  201803  1081103  2018001400893        4        2   \n",
       "1879922  2018      2018  201803  1081103  2018001400893        4        2   \n",
       "\n",
       "         HHWT  HHTYPE  REPWT  ...  REPWTP71  REPWTP72  REPWTP73  REPWTP74  \\\n",
       "0          26       5      1  ...        23        36         8         7   \n",
       "1          26       5      1  ...        46        45        16        12   \n",
       "2          38       3      1  ...        73        73        12        11   \n",
       "3          38       3      1  ...       119       124        20        18   \n",
       "4          38       3      1  ...        81        89        12        12   \n",
       "...       ...     ...    ...  ...       ...       ...       ...       ...   \n",
       "1879918    11       1      1  ...         5        15         4        30   \n",
       "1879919    34       1      1  ...        36        10        54        10   \n",
       "1879920    34       1      1  ...        33        10        52        11   \n",
       "1879921    34       1      1  ...        38        13        63        12   \n",
       "1879922    34       1      1  ...        37        10        54        10   \n",
       "\n",
       "         REPWTP75  REPWTP76  REPWTP77  REPWTP78  REPWTP79  REPWTP80  \n",
       "0              41        37         8        25        44        34  \n",
       "1              76        72        12        35        73        44  \n",
       "2              63        39        11        58        63        38  \n",
       "3             104        82        26       104       125        71  \n",
       "4              92        44        14        70        76        40  \n",
       "...           ...       ...       ...       ...       ...       ...  \n",
       "1879918        15         6         5        15        16        21  \n",
       "1879919        36        35        32        37        37        32  \n",
       "1879920        33        31        32        38        34        30  \n",
       "1879921        42        38        37        37        39        32  \n",
       "1879922        40        33        39        38        32        33  \n",
       "\n",
       "[1879923 rows x 302 columns]>"
      ]
     },
     "execution_count": 10,
     "metadata": {},
     "output_type": "execute_result"
    }
   ],
   "source": [
    "data.head"
   ]
  },
  {
   "cell_type": "code",
   "execution_count": null,
   "metadata": {},
   "outputs": [],
   "source": []
  }
 ],
 "metadata": {
  "kernelspec": {
   "display_name": "Python 3",
   "language": "python",
   "name": "python3"
  },
  "language_info": {
   "codemirror_mode": {
    "name": "ipython",
    "version": 3
   },
   "file_extension": ".py",
   "mimetype": "text/x-python",
   "name": "python",
   "nbconvert_exporter": "python",
   "pygments_lexer": "ipython3",
   "version": "3.7.5"
  }
 },
 "nbformat": 4,
 "nbformat_minor": 4
}
